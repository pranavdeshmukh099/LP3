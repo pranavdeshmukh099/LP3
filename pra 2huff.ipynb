{
 "cells": [
  {
   "cell_type": "code",
   "execution_count": 10,
   "metadata": {},
   "outputs": [
    {
     "name": "stdout",
     "output_type": "stream",
     "text": [
      "Text: hellohuffman\n",
      "Huffman Code: {'l': '000', 'o': '001', 'u': '010', 'f': '011', 'm': '100', 'a': '101', 'n': '110', 'h': '1110', 'e': '1111'}\n"
     ]
    }
   ],
   "source": [
    "class Node:\n",
    "    def __init__(self,char,frequency):\n",
    "        self.char = char\n",
    "        self.frequency = frequency\n",
    "        self.left = None\n",
    "        self.right = None\n",
    "\n",
    "def count_freq(temp):\n",
    "    freq_c={}\n",
    "    for i in temp:\n",
    "        if i not in freq_c:\n",
    "            freq_c[i] = 1\n",
    "        else:\n",
    "            freq_c[i] +=1 \n",
    "    return freq_c\n",
    "\n",
    "\n",
    "def generate_codes(node, prefix=\"\", code_map={}):\n",
    "    if node:\n",
    "        if node.char:\n",
    "            code_map[node.char] = prefix\n",
    "        generate_codes(node.left, prefix + \"0\", code_map)\n",
    "        generate_codes(node.right, prefix + \"1\", code_map)\n",
    "    return code_map\n",
    "\n",
    "def generateTree(text):\n",
    "    freq_c = count_freq(text)\n",
    "    nodes = [Node(ch,fr) for (ch,fr) in freq_c.items()]\n",
    "    while len(nodes)>1:\n",
    "        sorted(nodes,key=lambda x:x.frequency)\n",
    "        left = nodes.pop(0)\n",
    "        right = nodes.pop(0)\n",
    "\n",
    "        mergedNode = Node(None,left.frequency+right.frequency)\n",
    "        mergedNode.left = left\n",
    "        mergedNode.right= right\n",
    "\n",
    "        nodes.append(mergedNode)\n",
    "    return nodes[0] if nodes else None\n",
    "\n",
    "\n",
    "text = \"hellohuffman\"\n",
    "root = generateTree(text)\n",
    "code_map = generate_codes(root)\n",
    "\n",
    "print(\"Text:\", text)\n",
    "print(\"Huffman Code:\", code_map)\n"
   ]
  },
  {
   "cell_type": "code",
   "execution_count": null,
   "metadata": {},
   "outputs": [],
   "source": []
  }
 ],
 "metadata": {
  "kernelspec": {
   "display_name": "Python 3",
   "language": "python",
   "name": "python3"
  },
  "language_info": {
   "codemirror_mode": {
    "name": "ipython",
    "version": 3
   },
   "file_extension": ".py",
   "mimetype": "text/x-python",
   "name": "python",
   "nbconvert_exporter": "python",
   "pygments_lexer": "ipython3",
   "version": "3.8.8"
  }
 },
 "nbformat": 4,
 "nbformat_minor": 2
}
